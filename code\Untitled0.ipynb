{
  "nbformat": 4,
  "nbformat_minor": 0,
  "metadata": {
    "colab": {
      "name": "Untitled0.ipynb",
      "provenance": [],
      "authorship_tag": "ABX9TyNvYasCQEbMr2IVJCNNcor4",
      "include_colab_link": true
    },
    "kernelspec": {
      "name": "python3",
      "display_name": "Python 3"
    },
    "language_info": {
      "name": "python"
    }
  },
  "cells": [
    {
      "cell_type": "markdown",
      "metadata": {
        "id": "view-in-github",
        "colab_type": "text"
      },
      "source": [
        "<a href=\"https://colab.research.google.com/github/HibernationNo1/assignment-Segmented_Lung/blob/master/code%5CUntitled0.ipynb\" target=\"_parent\"><img src=\"https://colab.research.google.com/assets/colab-badge.svg\" alt=\"Open In Colab\"/></a>"
      ]
    },
    {
      "cell_type": "code",
      "metadata": {
        "colab": {
          "base_uri": "https://localhost:8080/"
        },
        "id": "DsSOhwG5MS1E",
        "outputId": "af2d61b1-8d14-427b-a4fa-6451e1ecb831"
      },
      "source": [
        "!python --version"
      ],
      "execution_count": 6,
      "outputs": [
        {
          "output_type": "stream",
          "name": "stdout",
          "text": [
            "Python 3.7.12\n"
          ]
        }
      ]
    },
    {
      "cell_type": "code",
      "metadata": {
        "id": "eLzO815FPXN_"
      },
      "source": [
        "!pip install tensorflow-gpu==2.0.0"
      ],
      "execution_count": null,
      "outputs": []
    },
    {
      "cell_type": "code",
      "metadata": {
        "colab": {
          "base_uri": "https://localhost:8080/"
        },
        "id": "OhYmqc_LMdnz",
        "outputId": "b8abb5a8-8f5e-4c6d-c22a-745d1dfe56a7"
      },
      "source": [
        "import skimage\n",
        "import tensorflow as tf\n",
        "import tensorflow.keras as K \n",
        "import scipy\n",
        "import cv2\n",
        "\n",
        "print(f\"skimage : {skimage.__version__}\")\n",
        "print(f\"tensorflow : {tf.__version__}\")\n",
        "print(f\"tensorflow.keras : {K.__version__}\")\n",
        "print(f\"scipy : {scipy.__version__}\")\n",
        "print(f\"cv2 : {cv2.__version__}\")"
      ],
      "execution_count": 1,
      "outputs": [
        {
          "output_type": "stream",
          "name": "stdout",
          "text": [
            "skimage : 0.16.2\n",
            "tensorflow : 2.0.0\n",
            "tensorflow.keras : 2.2.4-tf\n",
            "scipy : 1.4.1\n",
            "cv2 : 4.1.2\n"
          ]
        }
      ]
    },
    {
      "cell_type": "code",
      "metadata": {
        "colab": {
          "base_uri": "https://localhost:8080/"
        },
        "id": "gOfhmSUtNiWK",
        "outputId": "023afaa4-178c-4329-9e49-b7c5e9b19e4b"
      },
      "source": [
        "!ls\n",
        "!pwd"
      ],
      "execution_count": 3,
      "outputs": [
        {
          "output_type": "stream",
          "name": "stdout",
          "text": [
            "sample_data\n",
            "/content\n"
          ]
        }
      ]
    }
  ]
}