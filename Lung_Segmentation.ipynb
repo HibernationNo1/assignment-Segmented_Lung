{
  "nbformat": 4,
  "nbformat_minor": 0,
  "metadata": {
    "colab": {
      "name": "Untitled0.ipynb",
      "provenance": [],
      "authorship_tag": "ABX9TyODQFBAacUj6J1mkkeboiG6",
      "include_colab_link": true
    },
    "kernelspec": {
      "name": "python3",
      "display_name": "Python 3"
    },
    "language_info": {
      "name": "python"
    },
    "accelerator": "GPU"
  },
  "cells": [
    {
      "cell_type": "markdown",
      "metadata": {
        "id": "view-in-github",
        "colab_type": "text"
      },
      "source": [
        "<a href=\"https://colab.research.google.com/github/HibernationNo1/Segmented_Lung-assignment/blob/master/Lung_Segmentation.ipynb\" target=\"_parent\"><img src=\"https://colab.research.google.com/assets/colab-badge.svg\" alt=\"Open In Colab\"/></a>"
      ]
    },
    {
      "cell_type": "code",
      "metadata": {
        "colab": {
          "base_uri": "https://localhost:8080/"
        },
        "id": "6e4TiIZYsPvJ",
        "outputId": "a169b851-931d-4aaf-d9a2-9ec9f6a643d1"
      },
      "source": [
        "import segmentation_models as sm\n",
        "import glob\n",
        "import cv2\n",
        "import sys\n",
        "import matplotlib.pyplot as plt\n",
        "import numpy as np\n",
        "\n",
        "from scipy import ndimage\n",
        "from scipy.ndimage import label\n",
        "\n",
        "from absl import app\n",
        "\n",
        "import os\n",
        "os.environ[\"CUDA_VISIBLE_DEVICES\"] = \"1\"\n",
        "\n",
        "# change framework of sm from keras to tensorflow.keras\n",
        "sm.set_framework('tf.keras')"
      ],
      "execution_count": 3,
      "outputs": [
        {
          "output_type": "stream",
          "text": [
            "Segmentation Models: using `keras` framework.\n"
          ],
          "name": "stdout"
        }
      ]
    },
    {
      "cell_type": "markdown",
      "metadata": {
        "id": "66lM6sQksswR"
      },
      "source": [
        "## Set Path"
      ]
    },
    {
      "cell_type": "code",
      "metadata": {
        "id": "2gnLM_PjtCU0"
      },
      "source": [
        "path_base_model = os.path.join(os.getcwd() , 'models')\n",
        "path_base_input = os.path.join(os.getcwd() , 'dataset')  \n",
        "path_base_result = os.path.join(os.getcwd() , 'result')\n",
        "os.makedirs(path_base_result, exist_ok=True) "
      ],
      "execution_count": null,
      "outputs": []
    },
    {
      "cell_type": "markdown",
      "metadata": {
        "id": "4E--ZAfZte2J"
      },
      "source": [
        "- instance for save of mask image"
      ]
    },
    {
      "cell_type": "code",
      "metadata": {
        "id": "vfvF5sNrthgp"
      },
      "source": [
        "path_save_mask_img = os.path.join(path_base_result , 'result_mask') \n",
        "os.makedirs(path_save_mask_img, exist_ok=True)"
      ],
      "execution_count": null,
      "outputs": []
    },
    {
      "cell_type": "markdown",
      "metadata": {
        "id": "Jqgba2XGtl47"
      },
      "source": [
        "- instance for save of distinguish image"
      ]
    },
    {
      "cell_type": "code",
      "metadata": {
        "id": "IiwSvjeEtqGA"
      },
      "source": [
        "path_save_comp_img = os.path.join(path_base_result , 'result_distinguish') \n",
        "os.makedirs(path_save_comp_img, exist_ok=True)"
      ],
      "execution_count": null,
      "outputs": []
    },
    {
      "cell_type": "markdown",
      "metadata": {
        "id": "5ed9_I_Vt1tX"
      },
      "source": [
        "## Parameter"
      ]
    },
    {
      "cell_type": "markdown",
      "metadata": {
        "id": "4m_C_C4et_mP"
      },
      "source": [
        "### Input Size"
      ]
    },
    {
      "cell_type": "code",
      "metadata": {
        "id": "GFUFujLRuAtN"
      },
      "source": [
        "IMAGE_SIZE = (256,256,3)"
      ],
      "execution_count": null,
      "outputs": []
    },
    {
      "cell_type": "markdown",
      "metadata": {
        "id": "TlBjgLF3uHgR"
      },
      "source": [
        "### Model loads"
      ]
    },
    {
      "cell_type": "code",
      "metadata": {
        "id": "tYr2KbNNuLy5"
      },
      "source": [
        "BACKBONE = 'efficientnetb0'\n",
        "model1 = sm.Unet(BACKBONE, input_shape = (IMAGE_SIZE[0],IMAGE_SIZE[1],IMAGE_SIZE[2]),classes=1, activation='sigmoid',encoder_weights='imagenet')\n",
        "model2 = sm.Unet(BACKBONE, input_shape = (IMAGE_SIZE[0],IMAGE_SIZE[1],IMAGE_SIZE[2]),classes=1, activation='sigmoid',encoder_weights='imagenet')\n",
        "model3 = sm.Unet(BACKBONE, input_shape = (IMAGE_SIZE[0],IMAGE_SIZE[1],IMAGE_SIZE[2]),classes=1, activation='sigmoid',encoder_weights='imagenet')\n",
        "\n",
        "BACKBONE = 'efficientnetb7'\n",
        "model4 = sm.Unet(BACKBONE, input_shape = (IMAGE_SIZE[0],IMAGE_SIZE[1],IMAGE_SIZE[2]),classes=1, activation='sigmoid',encoder_weights='imagenet')\n",
        "model5 = sm.Unet(BACKBONE, input_shape = (IMAGE_SIZE[0],IMAGE_SIZE[1],IMAGE_SIZE[2]),classes=1, activation='sigmoid',encoder_weights='imagenet')\n",
        "\n",
        "preprocess_input = sm.get_preprocessing(BACKBONE)"
      ],
      "execution_count": null,
      "outputs": []
    },
    {
      "cell_type": "markdown",
      "metadata": {
        "id": "SkPG7ZVbuMTV"
      },
      "source": [
        "### load pre-trained model weights "
      ]
    },
    {
      "cell_type": "code",
      "metadata": {
        "id": "vTmAZysYuRy5"
      },
      "source": [
        "model1.load_weights(path_base_model + '\\model1.hdf5')\n",
        "model2.load_weights(path_base_model + '\\model2.hdf5')\n",
        "model3.load_weights(path_base_model + '\\model3.hdf5')\n",
        "model4.load_weights(path_base_model + '\\model4.hdf5')\n",
        "model5.load_weights(path_base_model + '\\model5.hdf5')"
      ],
      "execution_count": null,
      "outputs": []
    },
    {
      "cell_type": "markdown",
      "metadata": {
        "id": "3_ypkp9PuS1V"
      },
      "source": [
        "## Functions"
      ]
    },
    {
      "cell_type": "code",
      "metadata": {
        "id": "769TAQ-vuWWt"
      },
      "source": [
        "def preprocessing_HE(img_):\n",
        "    hist, _ = np.histogram(img_.flatten(), 256,[0,256])\t\n",
        "    cdf = hist.cumsum()\t\t\t\t\t\t\t\t\t\n",
        "    cdf_m = np.ma.masked_equal(cdf,0)\t\t\t\t\t\n",
        "    cdf_m = (cdf_m - cdf_m.min())*255/(cdf_m.max()-cdf_m.min()) \n",
        "    cdf = np.ma.filled(cdf_m,0).astype('uint8')\t\t\t\n",
        "    img_2 = cdf[img_]\t\t\t\t\t\t\t\t\t\n",
        "    \n",
        "    return img_2  \n",
        "        \n",
        "def get_binary_mask(mask_, th_ = 0.5):\n",
        "    mask_[mask_>th_]  = 1\n",
        "    mask_[mask_<=th_] = 0\n",
        "    return mask_\n",
        "    \n",
        "def ensemble_results(mask1_, mask2_, mask3_, mask4_, mask5_):\n",
        "    mask1_ = get_binary_mask(mask1_)\n",
        "    mask2_ = get_binary_mask(mask2_)\n",
        "    mask3_ = get_binary_mask(mask3_)\n",
        "    mask4_ = get_binary_mask(mask4_)\n",
        "    mask5_ = get_binary_mask(mask5_)\n",
        "    \n",
        "    ensemble_mask = mask1_ + mask2_ + mask3_ + mask4_ + mask5_\n",
        "    ensemble_mask[ensemble_mask<=2.0] = 0\n",
        "    ensemble_mask[ensemble_mask> 2.0] = 1\n",
        "    \n",
        "    return ensemble_mask\n",
        "\n",
        "def postprocessing_HoleFilling(mask_):\n",
        "\tensemble_mask_post_temp = ndimage.binary_fill_holes(mask_).astype(int)\n",
        "\treturn ensemble_mask_post_temp\n",
        "\n",
        "def get_maximum_index(labeled_array):\n",
        "\tind_nums = []\n",
        "\n",
        "\tfor i in range (len(np.unique(labeled_array)) - 1):\n",
        "\t\tind_nums.append ([0, i+1])\n",
        "\tfor i in range (1, len(np.unique(labeled_array))):\n",
        "\t\tind_nums[i-1][0] = len(np.where(labeled_array == np.unique(labeled_array)[i])[0])\n",
        "\n",
        "\tind_nums = sorted(ind_nums)\n",
        "\treturn ind_nums[len(ind_nums)-1][1], ind_nums[len(ind_nums)-2][1]\n",
        "    \n",
        "\n",
        "def postprocessing_EliminatingIsolation(ensemble_mask_post_temp):\n",
        "\tlabeled_array, _ = label(ensemble_mask_post_temp)\n",
        "\tind_max1, ind_max2 = get_maximum_index(labeled_array)\n",
        "    \n",
        "\tensemble_mask_post_temp2 = np.zeros(ensemble_mask_post_temp.shape)\n",
        "\tensemble_mask_post_temp2[labeled_array == ind_max1] = 1\n",
        "\tensemble_mask_post_temp2[labeled_array == ind_max2] = 1    \n",
        "\n",
        "\treturn ensemble_mask_post_temp2.astype(int)\n",
        "\n",
        "\n",
        "def image_resize(img_, IMAGE_SIZE):\n",
        "\tif np.shape(img_)[0] > IMAGE_SIZE[0] and np.shape(img_)[1] > IMAGE_SIZE[1] :\n",
        "\t\timg_resize = cv2.resize(img_,(IMAGE_SIZE[0],IMAGE_SIZE[1]),cv2.INTER_LINEAR)\n",
        "\telse : \t\n",
        "\t\timg_resize = cv2.resize(img_,(IMAGE_SIZE[0],IMAGE_SIZE[1]),cv2.INTER_AREA)\n",
        "\treturn img_resize\n",
        "\n",
        "\n",
        "def get_prediction(model_, img_, IMAGE_SIZE):  # 수정\n",
        "\timg_resize = image_resize(img_, IMAGE_SIZE)\n",
        "\timg_org_resize_HE = preprocessing_HE(img_resize)    \t\n",
        "\timg_ready = preprocess_input(img_org_resize_HE)\t\t\t\n",
        "\timg_ready = np.expand_dims(img_ready, axis=0) \t\t\n",
        "\tpr_mask = model_.predict(img_ready)\t\t\t\n",
        "\tpr_mask = np.squeeze(pr_mask, axis = 0)\n",
        "\treturn pr_mask[:,:,0]\n",
        "\n",
        "\n",
        "# 추가\n",
        "def get_lung_color_image(labeled_array, object_num, color):\n",
        "\tlabeled_array_temp = np.zeros(labeled_array.shape)\n",
        "\tlabeled_array_temp[labeled_array == object_num] = 1\n",
        "\n",
        "\tif color == 'R':\n",
        "\t\tlung_B = labeled_array_temp * 0\n",
        "\t\tlung_G = labeled_array_temp * 0\n",
        "\t\tlung_R = labeled_array_temp * 255\n",
        "\telif color == 'B':\n",
        "\t\tlung_B = labeled_array_temp * 255\n",
        "\t\tlung_G = labeled_array_temp * 0\n",
        "\t\tlung_R = labeled_array_temp * 0\n",
        "\n",
        "\timage_lung = np.dstack([lung_B, lung_G, lung_R]).astype('uint8')\n",
        "\n",
        "\treturn image_lung\n",
        "\n",
        "def Separation_l_r_lung(ensemble_mask_post_HF_EI, img_, path_, iter, path_save_comp_img):\n",
        "\timage_left_lung = np.zeros_like(IMAGE_SIZE).astype('uint8')\n",
        "\timage_right_lung = np.zeros_like(IMAGE_SIZE).astype('uint8')\n",
        "\t\n",
        "\timg_resize = image_resize(img_, IMAGE_SIZE)\n",
        "\n",
        "\tlabeled_array , feature_num = label(ensemble_mask_post_HF_EI)\n",
        "\n",
        "\tfor object_num in range(1, feature_num+1):\n",
        "\t\tmin_index, max_index = IMAGE_SIZE[1], 0\n",
        "\n",
        "\t\tfor i in range(int(IMAGE_SIZE[0])):  \t\n",
        "\t\t\tidx_temp = np.where(labeled_array[i] == object_num)\t\n",
        "\t\t\t\n",
        "\t\t\tif np.shape(idx_temp)[1] !=0:\n",
        "\t\t\t\tmax_index = max(max_index, idx_temp[0][-1])\n",
        "\t\t\t\tmin_index = min(min_index, idx_temp[0][0])\t\t\n",
        "\n",
        "\t\t\tif i == int(IMAGE_SIZE[0])-1:\n",
        "\t\t\t\tif max_index < int(IMAGE_SIZE[1]*2/3) and min_index < int(IMAGE_SIZE[1]*1/3):  \n",
        "\t\t\t\t\timage_left_lung = get_lung_color_image(labeled_array, object_num, 'B')\n",
        "\t\t\t\telif max_index > int(IMAGE_SIZE[1]*2/3) and min_index > int(IMAGE_SIZE[1]*1/3):\t\n",
        "\t\t\t\t\timage_right_lung = get_lung_color_image(labeled_array, object_num, 'R')\n",
        "\t\t\t\telse:\n",
        "\t\t\t\t\tprint(\"Separation failed!\")\n",
        "\n",
        "\tcolor_mask_lung = image_left_lung + image_right_lung\n",
        "\n",
        "\talpha_img_resize = 0.8\t\n",
        "\tbeta_color_mask_lung = 1-alpha_img_resize\n",
        "\tres_image_lung = cv2.addWeighted(img_resize, alpha_img_resize, color_mask_lung, beta_color_mask_lung, 0)\t\n",
        "\n",
        "\tfig, ax = plt.subplots(2, 3, figsize=(12, 12))\n",
        "\n",
        "\tfig.suptitle(str(path_.split('\\\\')[-1]), fontsize=25, fontweight = 'bold')\n",
        "\tfig.tight_layout()\n",
        "\n",
        "\tax[0, 1].imshow(img_)\n",
        "\tax[0, 1].set_title('Input with HE', fontsize = 20)\n",
        "\n",
        "\tax[1, 0].imshow(ensemble_mask_post_HF_EI, cmap='gray')\n",
        "\tax[1, 0].set_title('Ensemble + HF + EI', fontsize = 20)\n",
        "\n",
        "\tax[1, 1].imshow(color_mask_lung)\n",
        "\tax[1, 1].set_title('Color Ensemble + HF + EI ', fontsize = 20)\n",
        "\n",
        "\tax[1, 2].imshow(res_image_lung)\n",
        "\tax[1, 2].set_title('Color + Input Image', fontsize = 20)\n",
        "\n",
        "\tfor axis in ax.flat:\t# 좌표, 축 삭제(image만 보기 위해)\n",
        "\t\taxis.get_xaxis().set_visible(False)\n",
        "\t\taxis.get_yaxis().set_visible(False)\n",
        "\t\tfor _, spine in axis.spines.items():\n",
        "\t\t\tspine.set_visible(False)\n",
        "\n",
        "\tplt.savefig(path_save_comp_img + '/result_' + str(iter) +  '.png')\n",
        "\t# plt.show()\n",
        "\tplt.close()"
      ],
      "execution_count": null,
      "outputs": []
    },
    {
      "cell_type": "markdown",
      "metadata": {
        "id": "QzXOWxCcu5gR"
      },
      "source": [
        "##mian"
      ]
    },
    {
      "cell_type": "code",
      "metadata": {
        "id": "AWheS-q7u7g9"
      },
      "source": [
        "def main(_):\n",
        "\tfor iter, path_ in enumerate(sorted(glob.glob (path_base_input + '\\*.*'))):\t\t \n",
        "\t\tprint ('file: ', path_.split('\\\\')[-1])\n",
        "\t\t\n",
        "\t\timg = cv2.imread(path_)    \n",
        "\t\tpr_mask1 = get_prediction (model1, img, IMAGE_SIZE) \n",
        "\t\tpr_mask2 = get_prediction (model2, img, IMAGE_SIZE)\n",
        "\t\tpr_mask3 = get_prediction (model3, img, IMAGE_SIZE)\n",
        "\t\tpr_mask4 = get_prediction (model4, img, IMAGE_SIZE)\n",
        "\t\tpr_mask5 = get_prediction (model5, img, IMAGE_SIZE)    \n",
        "\n",
        "\t\tensemble_mask            = ensemble_results(pr_mask1, pr_mask2, pr_mask3, pr_mask4, pr_mask5)\n",
        "\t\tensemble_mask_post_HF    = postprocessing_HoleFilling(ensemble_mask)\n",
        "\t\tensemble_mask_post_HF_EI = postprocessing_EliminatingIsolation(ensemble_mask_post_HF)\n",
        "\n",
        "\t\tfig, ax = plt.subplots(3, 3, figsize=(12, 12))\n",
        "\t\tax[0, 0].imshow(img)\n",
        "\t\tax[0, 0].set_title('Input with HE', fontsize = 20)\n",
        "\n",
        "\t\tax[0, 1].imshow(pr_mask1, cmap='gray')\n",
        "\t\tax[0, 1].set_title('Model 1', fontsize = 20)\n",
        "\n",
        "\t\tax[0, 2].imshow(pr_mask2, cmap='gray')\n",
        "\t\tax[0, 2].set_title('Model 2', fontsize = 20)\n",
        "\n",
        "\t\tax[1, 0].imshow(pr_mask3, cmap='gray')\n",
        "\t\tax[1, 0].set_title('Model 3', fontsize = 20)\n",
        "\n",
        "\t\tax[1, 1].imshow(pr_mask4, cmap='gray')\n",
        "\t\tax[1, 1].set_title('Model 4', fontsize = 20)\n",
        "\n",
        "\t\tax[1, 2].imshow(pr_mask5, cmap='gray')\n",
        "\t\tax[1, 2].set_title('Model 5', fontsize = 20)\n",
        "\n",
        "\t\tax[2, 0].imshow(ensemble_mask, cmap='gray')\n",
        "\t\tax[2, 0].set_title('Ensemble', fontsize = 20)\n",
        "\n",
        "\t\tax[2, 1].imshow(ensemble_mask_post_HF, cmap='gray')\n",
        "\t\tax[2, 1].set_title('Ensemble + HF', fontsize = 20)\n",
        "\n",
        "\t\tax[2, 2].imshow(ensemble_mask_post_HF_EI, cmap='gray')\n",
        "\t\tax[2, 2].set_title('Ensemble + HF + EI', fontsize = 20)\n",
        "\n",
        "\t\tfor axis in ax.flat:\n",
        "\t\t\taxis.get_xaxis().set_visible(False)\n",
        "\t\t\taxis.get_yaxis().set_visible(False)\n",
        "\n",
        "\t\tfig.suptitle(str(path_.split('\\\\')[-1]), fontsize=25, fontweight = 'bold')\n",
        "\t\tfig.tight_layout()\n",
        "\t\t\t\t\n",
        "\t\tplt.savefig(path_save_mask_img + '/result_' + str(iter) +  '.png')\n",
        "\t\t# plt.show()\n",
        "\t\tplt.close()\n",
        "\n",
        "\t\tSeparation_l_r_lung(ensemble_mask_post_HF_EI, img, path_, iter, path_save_comp_img)"
      ],
      "execution_count": null,
      "outputs": []
    },
    {
      "cell_type": "markdown",
      "metadata": {
        "id": "JkA26Xjgu9zc"
      },
      "source": [
        "- add.run"
      ]
    },
    {
      "cell_type": "code",
      "metadata": {
        "id": "AZbzlXGIvA8E"
      },
      "source": [
        "if __name__ == '__main__':  \n",
        "\tapp.run(main) "
      ],
      "execution_count": null,
      "outputs": []
    }
  ]
}